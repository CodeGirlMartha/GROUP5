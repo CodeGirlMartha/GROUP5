{
 "cells": [
  {
   "cell_type": "markdown",
   "metadata": {},
   "source": [
    "LINEAR ALGEBRA,\n",
    "Linear algebra is a branch of mathematics that focuses on the study of vector spaces and linear mappings between these spaces. It deals with structures that are linear, such as linear equations, linear transformations, and linear combinations.\n",
    "The general linear equations are represented as:\n",
    "\n",
    "a1x1 + a2x2............ + an xn = b\n",
    "a - represents the coefficients.\n",
    "x - represents the unknown.\n",
    "b - represents the constant.\n",
    "\n",
    " why learning linear algebra is important:\n",
    "* \t\tFoundation for Advanced Mathematics: Linear algebra provides the foundation for many advanced mathematical concepts and techniques. It serves as a bridge between basic algebra and more complex mathematical structures.\n",
    "* \t\tUnderstanding Space and Geometry: It helps in understanding and manipulating geometric objects and spaces, making it valuable in fields like computer graphics, computer vision, and 3D modeling.\n",
    "* \t\tSolving Systems of Equations: Linear algebra is essential for solving systems of linear equations, which arise in diverse real-world problems, including engineering, physics, economics, and optimization.\n",
    "* \t\tData Analysis and Statistics: Linear algebra is at the core of many data analysis and statistical techniques. Operations like matrix factorization and eigendecomposition are used in data reduction and dimensionality reduction.\n",
    "* \t\tMachine Learning and Deep Learning: Linear algebra is a fundamental building block of machine learning and deep learning algorithms. Neural networks, for example, involve extensive matrix operations.\n",
    "* \t\tComputer Graphics and Animation: It's crucial in computer graphics for tasks like transformations, rotations, and rendering.\n",
    "* \t\tPhysics and Engineering: Linear algebra is used to model physical systems and solve problems in fields like mechanics, electromagnetics, and control theory.\n",
    "* \t\tEconomics and Finance: It's employed in economic modeling, portfolio optimization, and financial analysis.\n",
    "* \t\tOptimization: Linear programming, a mathematical method for optimizing objective functions, relies heavily on linear algebra.\n"
   ]
  },
  {
   "cell_type": "markdown",
   "metadata": {},
   "source": [
    "2.VECTORS, COMBINING AND SCALING\n",
    "\n",
    "Vectors represent quantities with both magnitude and direction.\n",
    "combining vectors involve addition, and scaling vectors involving multipling them by a scalar (a single numerical value).\n",
    "\n",
    "As you know vector is a physical quantity that has both magnitude and direction.\n",
    "A vector space is defined as the collection of objects called vectors, which may be added together and multiplied (i.e. scaled) by numbers, called scalars. Generally, real numbers are taken as scalars, but there exist vector spaces with scalar multiplication by non-real numbers, i.e. complex numbers, or naturally any field."
   ]
  },
  {
   "cell_type": "code",
   "execution_count": 2,
   "metadata": {},
   "outputs": [
    {
     "name": "stdout",
     "output_type": "stream",
     "text": [
      "[3 2]\n"
     ]
    }
   ],
   "source": [
    "import numpy as np\n",
    "#Define two vector as numpy array\n",
    "vector1 = np.array([2, 3])\n",
    "vector2 = np.array([1, -1])\n",
    "\n",
    "#vector addition\n",
    "resultVector = vector1 + vector2\n",
    "print(resultVector)"
   ]
  },
  {
   "cell_type": "code",
   "execution_count": 3,
   "metadata": {},
   "outputs": [
    {
     "name": "stdout",
     "output_type": "stream",
     "text": [
      "[12 18]\n"
     ]
    }
   ],
   "source": [
    "#scalar multiplication\n",
    "scalar = 6\n",
    "scaledVector = scalar * vector1\n",
    "print(scaledVector)"
   ]
  },
  {
   "cell_type": "code",
   "execution_count": 4,
   "metadata": {},
   "outputs": [
    {
     "name": "stdout",
     "output_type": "stream",
     "text": [
      "[6 4]\n"
     ]
    }
   ],
   "source": [
    "#Scalar multiplication\n",
    "scalar = 2\n",
    "scaledVector = scalar * resultVector\n",
    "print(scaledVector)"
   ]
  },
  {
   "cell_type": "markdown",
   "metadata": {},
   "source": [
    "3. Transforming vectors and matrices\n",
    "\n",
    "Transforming Vectors:\n",
    "In linear algebra, vectors represent quantities with both magnitude and direction.\n",
    "Transforming a vector means applying a linear transformation to it, often represented as a matrix multiplication.\n",
    "This transformation can change the vector's position, orientation, or scale, depending on the matrix used.\n",
    "Common transformations include translation, rotation, scaling, and shearing.\n",
    "\n",
    "Transforming Matrices:\n",
    "Matrices are rectangular arrays of numbers.\n",
    "Transforming matrices typically refers to operations like matrix multiplication, addition, and subtraction.\n",
    "In computer graphics and transformations, matrices are used to represent various transformations applied to objects or spaces.\n",
    "Transforming matrices can be used to change the position, orientation, or shape of objects in 2D or 3D space.\n"
   ]
  },
  {
   "cell_type": "code",
   "execution_count": 5,
   "metadata": {},
   "outputs": [
    {
     "name": "stdout",
     "output_type": "stream",
     "text": [
      "[[2]\n",
      " [3]]\n",
      "[[ 1.41421356 -1.41421356]\n",
      " [ 1.41421356  1.41421356]]\n",
      "[[ 2.82842712 -2.82842712]\n",
      " [ 4.24264069  4.24264069]]\n"
     ]
    }
   ],
   "source": [
    "import numpy as np\n",
    "#Define a 2D vector as a colomn matrix[x, y]\n",
    "vector = np.array([[2],\n",
    "                   [3]])\n",
    "\n",
    "#Define a 2D transformation matrix for scaling and rotation\n",
    "#Example: scale by a factor of 2 and rotation by 45 degrees(in radians)\n",
    "# convert degrees to radians\n",
    "\n",
    "theta = np.radians(45)\n",
    "scaleFactor = 2\n",
    "transformationMatrix = np.array([[scaleFactor * np.cos(theta), -scaleFactor * np.sin(theta)],\n",
    "                                  [scaleFactor * np.sin(theta), scaleFactor * np.cos(theta)]])\n",
    "\n",
    "#Perform the transformation by multiplying the vector with the matrices\n",
    "transformedVector = np.array(transformationMatrix * vector)\n",
    "print(vector)\n",
    "print(transformationMatrix)\n",
    "print(transformedVector)"
   ]
  },
  {
   "cell_type": "code",
   "execution_count": 6,
   "metadata": {},
   "outputs": [],
   "source": [
    "#TRANSFORMING VECTORS AS MATRICES\n",
    "import numpy as np "
   ]
  },
  {
   "cell_type": "code",
   "execution_count": 7,
   "metadata": {},
   "outputs": [
    {
     "name": "stdout",
     "output_type": "stream",
     "text": [
      "[[1 2]\n",
      " [3 4]\n",
      " [5 6]]\n"
     ]
    }
   ],
   "source": [
    "#Create a matrix\n",
    "matrix = np.array([[1,2],[3,4],[5,6]]) \n",
    "print(matrix)"
   ]
  },
  {
   "cell_type": "code",
   "execution_count": 8,
   "metadata": {},
   "outputs": [
    {
     "name": "stdout",
     "output_type": "stream",
     "text": [
      "[1 2 3]\n",
      "[[1]\n",
      " [2]\n",
      " [3]]\n"
     ]
    }
   ],
   "source": [
    "#Create a vector\n",
    "\n",
    "#Create a vector as a row\n",
    "vector_row = np.array([1,2,3])\n",
    "print(vector_row)\n",
    "\n",
    "#Create a vector as a column\n",
    "vector_column = np.array([[1],[2],[3]])\n",
    "print(vector_column)"
   ]
  },
  {
   "cell_type": "code",
   "execution_count": 9,
   "metadata": {},
   "outputs": [
    {
     "name": "stdout",
     "output_type": "stream",
     "text": [
      "[[3]\n",
      " [5]] \n",
      "\n",
      " [[6.]\n",
      " [0.]\n",
      " [5.]]\n"
     ]
    }
   ],
   "source": [
    "#A linear map is referred to as a linear transformation\n",
    "#Example 1:\n",
    "#Python function accepts one vector and provides one in return(mapping)\n",
    "#Transformation from R^2 to R^3\n",
    "def T(V):\n",
    "    W = np.zeros((3,1))\n",
    "    W[0,0] = 2*V[0,0]\n",
    "    W[2,0] = V[1,0]\n",
    "    return W\n",
    "\n",
    "V = np.array([[3],[5]])\n",
    "W = T(V)\n",
    "\n",
    "print(V, '\\n\\n', W)\n",
    "#This can be described with th formula; T([v1,v2]) = [2v1,0,v2]"
   ]
  },
  {
   "cell_type": "code",
   "execution_count": 10,
   "metadata": {},
   "outputs": [
    {
     "name": "stdout",
     "output_type": "stream",
     "text": [
      "[[1]\n",
      " [3]\n",
      " [5]] \n",
      "\n",
      " [[2.]\n",
      " [0.]\n",
      " [3.]]\n"
     ]
    }
   ],
   "source": [
    "#Transformation defined as matrix multiplication \n",
    "#Example 2:\n",
    "#L: R^3 to R^3 can be defined as L(X) = AX\n",
    "#We define a function for this transformation as well\n",
    "def L(V):\n",
    "    A = np.array([[1,1,0],[1,0,2],[3,1,-1]])\n",
    "    W = A@V\n",
    "    return W\n",
    "\n",
    "V = np.array([[1],[3],[5]])\n",
    "W = T(V)\n",
    "\n",
    "print(V, '\\n\\n', W)\n"
   ]
  },
  {
   "cell_type": "code",
   "execution_count": 11,
   "metadata": {},
   "outputs": [
    {
     "name": "stdout",
     "output_type": "stream",
     "text": [
      "[[ 6.]\n",
      " [16.]\n",
      " [13.]]\n"
     ]
    }
   ],
   "source": [
    "#Example 3\n",
    "#Compositions; if two transformations are to be applied, one after the other, it is common to combine them to form \n",
    "#wat is known as a compostion.\n",
    " \n",
    "#FROM EXAMPLES BEFORE\n",
    "#if we take T: R^2 to R^3 and L: R^3 to R^3, We could define LoT: R^2 to R^3\n",
    "#We calculate the output by calling the functions from examples before in order, using output from T as input to L\n",
    "\n",
    "V = np.array([[3],[5]])\n",
    "composition_output = L(T(V))\n",
    "print(composition_output)"
   ]
  },
  {
   "cell_type": "code",
   "execution_count": 12,
   "metadata": {},
   "outputs": [
    {
     "name": "stdout",
     "output_type": "stream",
     "text": [
      "Requirement already satisfied: scipy in c:\\users\\user\\appdata\\local\\packages\\pythonsoftwarefoundation.python.3.11_qbz5n2kfra8p0\\localcache\\local-packages\\python311\\site-packages (1.11.3)Note: you may need to restart the kernel to use updated packages.\n",
      "\n",
      "Requirement already satisfied: numpy<1.28.0,>=1.21.6 in c:\\users\\user\\appdata\\local\\packages\\pythonsoftwarefoundation.python.3.11_qbz5n2kfra8p0\\localcache\\local-packages\\python311\\site-packages (from scipy) (1.26.0)\n"
     ]
    }
   ],
   "source": [
    "pip install scipy \n"
   ]
  },
  {
   "cell_type": "code",
   "execution_count": 13,
   "metadata": {},
   "outputs": [],
   "source": [
    "from scipy import linalg "
   ]
  },
  {
   "cell_type": "code",
   "execution_count": 14,
   "metadata": {},
   "outputs": [
    {
     "name": "stdout",
     "output_type": "stream",
     "text": [
      "[[ 4]\n",
      " [11]\n",
      " [ 1]] \n",
      "\n",
      "[[1.]\n",
      " [3.]\n",
      " [5.]]\n"
     ]
    }
   ],
   "source": [
    "#Invertibility\n",
    "#The transformation is invertible if it is possible to map all vectors in the output space back to the input space \n",
    "#linear transformation L, is invertible if it has an inverse\n",
    "\n",
    "def L_inverse(V):\n",
    "    A = np.array([[1,1,0],[1,0,2],[3,1,-1]])\n",
    "    A_inverse = linalg.inv(A)\n",
    "    W = A_inverse@V\n",
    "    return W\n",
    "\n",
    "V = np.array([[1],[3],[5]])\n",
    "print(L(V), '\\n')\n",
    "print(L_inverse(L(V)))\n",
    "\n"
   ]
  },
  {
   "cell_type": "markdown",
   "metadata": {},
   "source": [
    "4. System of linear equations and inverse matrices\n",
    "\n",
    "A system of linear equations can be represented in matrix form using a coefficient matrix, a variable matrix, and a constant matrix.\n",
    "Linear equation is used to solve systems of linear equations. Inverse matrices play a crucial role in solving such systems\n",
    "To solve a system of linear equations using an inverse matrix, let A be the coefficient matrix, let X be the variable matrix, and let B be the constant matrix. Thus, we want to solve a system AX=B.\n",
    "\n",
    "A Linear system of m equation in n unknown x1,x2......xn is a set of equation of the form.\n",
    "Linear algebra is used to solve systems of linear equations. Inverse matrices play a crucial role in solving such systems."
   ]
  },
  {
   "cell_type": "code",
   "execution_count": 15,
   "metadata": {},
   "outputs": [
    {
     "name": "stdout",
     "output_type": "stream",
     "text": [
      "[2.2 1.2]\n"
     ]
    }
   ],
   "source": [
    "import numpy as np\n",
    "#coefficient matrix \n",
    "A = np. array([[2, 3],\n",
    "                [1, -1]])\n",
    "\n",
    "# right hand side vector\n",
    "b = np. array([8, 1])\n",
    "\n",
    "#solving the system of equations\n",
    "x = np.linalg.solve(A, b)\n",
    "print(x)"
   ]
  },
  {
   "cell_type": "code",
   "execution_count": 16,
   "metadata": {},
   "outputs": [
    {
     "name": "stdout",
     "output_type": "stream",
     "text": [
      "[2.2 1.2]\n"
     ]
    }
   ],
   "source": [
    "import numpy as np\n",
    "\n",
    "A = np.array([[2, 3], [1, -1]])\n",
    "B = np.array([8, 1])\n",
    "# solving the system of equations\n",
    "x = np.linalg.solve(A,B)\n",
    "print(x)\n"
   ]
  },
  {
   "cell_type": "code",
   "execution_count": 17,
   "metadata": {},
   "outputs": [],
   "source": [
    "#consider the system of linear equations\n",
    "# ax + y + z = 6\n",
    "# a2y + 5z = -4\n",
    "# a2x + 5y - z = 27\n",
    "#This is the same as:\n",
    "#[1 1 1][x] = [6]\n",
    "#[0 2 5][y] = [4]\n",
    "#[2 5 -1][z] = [27]\n",
    "# A       X     B\n",
    "#A*X = B\n",
    "#X = B/A = B*A-1"
   ]
  },
  {
   "cell_type": "code",
   "execution_count": 18,
   "metadata": {},
   "outputs": [
    {
     "name": "stdout",
     "output_type": "stream",
     "text": [
      "[[ 2.71428571]\n",
      " [ 4.14285714]\n",
      " [-0.85714286]]\n"
     ]
    }
   ],
   "source": [
    "import numpy as np\n",
    "A= np.array([[1, 1, 1], [0, 2, 5], [2, 5, -1]])\n",
    "B= np.array([[6], [4],[27]])\n",
    "X = np.linalg.solve(A,B)\n",
    "print(X)"
   ]
  },
  {
   "cell_type": "code",
   "execution_count": 19,
   "metadata": {},
   "outputs": [
    {
     "name": "stdout",
     "output_type": "stream",
     "text": [
      "[2.2 1.2]\n"
     ]
    }
   ],
   "source": [
    "import numpy as np\n",
    "A = np.array([[2,3], [1,-1]])\n",
    "b = np.array([8,1])\n",
    "#solving the system of equations\n",
    "x = np.linalg.solve(A,b)\n",
    "print(x)"
   ]
  },
  {
   "cell_type": "code",
   "execution_count": 20,
   "metadata": {},
   "outputs": [],
   "source": [
    "#finding inverse of a matrix\n",
    "A_inv = np.linalg.inv(A)"
   ]
  },
  {
   "cell_type": "markdown",
   "metadata": {},
   "source": [
    "5. Dot products\n",
    "\n",
    "The dot product (or inner product) of two vectors is a scalar value that represents the projection of one vector onto another.\n"
   ]
  },
  {
   "cell_type": "code",
   "execution_count": 21,
   "metadata": {},
   "outputs": [],
   "source": [
    "import numpy as np"
   ]
  },
  {
   "cell_type": "code",
   "execution_count": 22,
   "metadata": {},
   "outputs": [],
   "source": [
    "#defining two arrays\n",
    "a=np.array([1,2,3])\n",
    "b=np.array([4,5,6])"
   ]
  },
  {
   "cell_type": "code",
   "execution_count": 23,
   "metadata": {},
   "outputs": [
    {
     "name": "stdout",
     "output_type": "stream",
     "text": [
      "32\n"
     ]
    }
   ],
   "source": [
    "#calculating the dot product using numpy\n",
    "dot_product=np.dot(a,b)\n",
    "print(dot_product)"
   ]
  },
  {
   "cell_type": "code",
   "execution_count": 24,
   "metadata": {},
   "outputs": [
    {
     "name": "stdout",
     "output_type": "stream",
     "text": [
      "32\n"
     ]
    }
   ],
   "source": [
    "#calculate the dot product using the @ operator\n",
    "dot_product2=a@b\n",
    "print(dot_product2)"
   ]
  },
  {
   "cell_type": "code",
   "execution_count": 25,
   "metadata": {},
   "outputs": [
    {
     "name": "stdout",
     "output_type": "stream",
     "text": [
      "-1\n"
     ]
    }
   ],
   "source": [
    "#import numpy as np\n",
    "vector1 = np.array([2, 3])\n",
    "vector2 = np. array([1,-1])\n",
    "\n",
    "dotProduct = np.dot(vector1, vector2)\n",
    "print(dotProduct)"
   ]
  },
  {
   "cell_type": "markdown",
   "metadata": {},
   "source": [
    "6. Matrix decompositionMatrix Decomposition\n",
    "\n",
    "A matrix decomposition is a way of reducing a matrix into its constituent parts.\n",
    "It is an approach that can simplify more complex matrix operations that can be performed on the decomposed matrix rather than on the original matrix itself.\n",
    "A common analogy for matrix decomposition is the factoring of numbers, such as the factoring of 10 into 2 x 5. For this reason, matrix decomposition is also called matrix factorization. Like factoring real values, there are many ways to decompose a matrix, hence there are a range of different matrix decomposition techniques.\n",
    "Two simple and widely used matrix decomposition methods are the LU matrix decomposition and the QR matrix decomposition.\n",
    "Next, we will take a closer look at each of these methods.\n",
    "\n",
    "LU Matrix Decomposition\n",
    "The LU decomposition is for square matrices and decomposes a matrix into L and U components.\n",
    "1\tA = L . U\n",
    "Or, without the dot notation.\n",
    "1\tA = LU\n",
    "Where A is the square matrix that we wish to decompose, L is the lower triangle matrix and U is the upper triangle matrix.\n",
    "The factors L and U are triangular matrices. The factorization that comes from elimination is A = LU.\n",
    "The LU decomposition is found using an iterative numerical process and can fail for those matrices that cannot be decomposed or decomposed easily.\n",
    "A variation of this decomposition that is numerically more stable to solve in practice is called the LUP decomposition, or the LU decomposition with partial pivoting.\n",
    "1\tA = P . L . U\n",
    "The rows of the parent matrix are re-ordered to simplify the decomposition process and the additional P matrix specifies a way to permute the result or return the result to the original order. There are also other variations of the LU.\n",
    "The LU decomposition is often used to simplify the solving of systems of linear equations, such as finding the coefficients in a linear regression, as well as in calculating the determinant and inverse of a matrix.\n",
    "The LU decomposition can be implemented in Python with the lu() function. More specifically, this function calculates an LPU decomposition.\n",
    "Matrix decomposition techniques like Singular Value Decomposition (SVD) and Eigenvalue Decomposition (EVD) are used to factorize matrices into simpler forms for various applications.\n",
    "\n",
    "The example below first defines a 3×3 square matrix. The LU decomposition is calculated, then the original matrix is reconstructed from the components.\n",
    "\n",
    "\n"
   ]
  },
  {
   "cell_type": "code",
   "execution_count": 26,
   "metadata": {},
   "outputs": [
    {
     "name": "stdout",
     "output_type": "stream",
     "text": [
      "Requirement already satisfied: scipy in c:\\users\\user\\appdata\\local\\packages\\pythonsoftwarefoundation.python.3.11_qbz5n2kfra8p0\\localcache\\local-packages\\python311\\site-packages (1.11.3)\n",
      "Requirement already satisfied: numpy<1.28.0,>=1.21.6 in c:\\users\\user\\appdata\\local\\packages\\pythonsoftwarefoundation.python.3.11_qbz5n2kfra8p0\\localcache\\local-packages\\python311\\site-packages (from scipy) (1.26.0)\n",
      "Note: you may need to restart the kernel to use updated packages.\n"
     ]
    }
   ],
   "source": [
    "pip install scipy"
   ]
  },
  {
   "cell_type": "code",
   "execution_count": 27,
   "metadata": {},
   "outputs": [
    {
     "name": "stdout",
     "output_type": "stream",
     "text": [
      "[[1 2 3]\n",
      " [4 5 6]\n",
      " [7 8 9]]\n",
      "[[0. 1. 0.]\n",
      " [0. 0. 1.]\n",
      " [1. 0. 0.]]\n",
      "[[1.         0.         0.        ]\n",
      " [0.14285714 1.         0.        ]\n",
      " [0.57142857 0.5        1.        ]]\n",
      "[[7.         8.         9.        ]\n",
      " [0.         0.85714286 1.71428571]\n",
      " [0.         0.         0.        ]]\n",
      "[[1. 2. 3.]\n",
      " [4. 5. 6.]\n",
      " [7. 8. 9.]]\n"
     ]
    }
   ],
   "source": [
    "# LU decomposition\n",
    "from numpy import array\n",
    "from scipy.linalg import lu\n",
    "# define a square matrix\n",
    "A = array([[1, 2, 3], [4, 5, 6], [7, 8, 9]])\n",
    "print(A)\n",
    "# LU decomposition\n",
    "P, L, U = lu(A)\n",
    "print(P)\n",
    "print(L)\n",
    "print(U)\n",
    "# reconstruct\n",
    "B = P.dot(L).dot(U)\n",
    "print(B)\n"
   ]
  },
  {
   "cell_type": "markdown",
   "metadata": {},
   "source": [
    "Cholesky Decomposition\n",
    "\n",
    "The Cholesky decomposition is for square symmetric matrices where all eigenvalues are greater than zero, so-called positive definite matrices.\n",
    "For our interests in machine learning, we will focus on the Cholesky decomposition for real-valued matrices and ignore the cases when working with complex numbers.\n",
    "The decomposition is defined as follows:\n",
    "1\tA = L . L^T\n",
    "Or without the dot notation:\n",
    "1\tA = LL^T\n",
    "Where A is the matrix being decomposed, L is the lower triangular matrix and L^T is the transpose of L.\n",
    "The decompose can also be written as the product of the upper triangular matrix, for example:\n",
    "1\tA = U^T . U\n",
    "Where U is the upper triangular matrix.\n",
    "The Cholesky decomposition is used for solving linear least squares for linear regression, as well as simulation and optimization methods.\n",
    "\n",
    "When decomposing symmetric matrices, the Cholesky decomposition is nearly twice as efficient as the LU decomposition and should be preferred in these cases.\n",
    "\n",
    "While symmetric, positive definite matrices are rather special, they occur quite frequently in some applications, so their special factorization, called Cholesky decomposition, is good to know about. When you can use it, Cholesky decomposition is about a factor of two faster than alternative methods for solving linear equations.\n",
    "\n",
    "The Cholesky decomposition can be implemented in NumPy by calling the cholesky() function. The function only returns L as we can easily access the L transpose as needed.\n",
    "\n",
    "The example below defines a 3×3 symmetric and positive definite matrix and calculates the Cholesky decomposition, then the original matrix is reconstructed."
   ]
  },
  {
   "cell_type": "code",
   "execution_count": 28,
   "metadata": {},
   "outputs": [
    {
     "name": "stdout",
     "output_type": "stream",
     "text": [
      "[[2 1 1]\n",
      " [1 2 1]\n",
      " [1 1 2]]\n",
      "[[1.41421356 0.         0.        ]\n",
      " [0.70710678 1.22474487 0.        ]\n",
      " [0.70710678 0.40824829 1.15470054]]\n",
      "[[2. 1. 1.]\n",
      " [1. 2. 1.]\n",
      " [1. 1. 2.]]\n"
     ]
    }
   ],
   "source": [
    "12\t# Cholesky decomposition\n",
    "from numpy import array\n",
    "from numpy.linalg import cholesky\n",
    "# define a 3x3 matrix\n",
    "A = array([[2, 1, 1], [1, 2, 1], [1, 1, 2]])\n",
    "print(A)\n",
    "# Cholesky decomposition\n",
    "L = cholesky(A)\n",
    "print(L)\n",
    "# reconstruct\n",
    "B = L.dot(L.T)\n",
    "print(B)"
   ]
  },
  {
   "cell_type": "markdown",
   "metadata": {},
   "source": [
    "QR Matrix Decomposition\n",
    "\n",
    "The QR decomposition is for m x n matrices (not limited to square matrices) and decomposes a matrix into Q and R components.\n",
    "1\tA = Q . R\n",
    "Or, without the dot notation.\n",
    "1\tA = QR\n",
    "Where A is the matrix that we wish to decompose, Q a matrix with the size m x m, and R is an upper triangle matrix with the size m x n.\n",
    "The QR decomposition is found using an iterative numerical method that can fail for those matrices that cannot be decomposed, or decomposed easily.\n",
    "Like the LU decomposition, the QR decomposition is often used to solve systems of linear equations, although is not limited to square matrices.\n",
    "The QR decomposition can be implemented in NumPy using the qr() function. By default, the function returns the Q and R matrices with smaller or ‘reduced’ dimensions that is more economical. We can change this to return the expected sizes of m x m for Q and m x n for R by specifying the mode argument as ‘complete’, although this is not required for most applications.\n",
    "\n",
    "The example below defines a 3×2 matrix, calculates the QR decomposition, then reconstructs the original matrix from the decomposed elements."
   ]
  },
  {
   "cell_type": "code",
   "execution_count": 29,
   "metadata": {},
   "outputs": [
    {
     "name": "stdout",
     "output_type": "stream",
     "text": [
      "[[1 2]\n",
      " [3 4]\n",
      " [5 6]]\n",
      "[[-0.16903085  0.89708523  0.40824829]\n",
      " [-0.50709255  0.27602622 -0.81649658]\n",
      " [-0.84515425 -0.34503278  0.40824829]]\n",
      "[[-5.91607978 -7.43735744]\n",
      " [ 0.          0.82807867]\n",
      " [ 0.          0.        ]]\n",
      "[[1. 2.]\n",
      " [3. 4.]\n",
      " [5. 6.]]\n"
     ]
    }
   ],
   "source": [
    "# QR decomposition\n",
    "from numpy import array\n",
    "from numpy.linalg import qr\n",
    "# define a 3x2 matrix\n",
    "A = array([[1, 2], [3, 4], [5, 6]])\n",
    "print(A)\n",
    "# QR decomposition\n",
    "Q, R = qr(A, 'complete')\n",
    "print(Q)\n",
    "print(R)\n",
    "# reconstruct\n",
    "B = Q.dot(R)\n",
    "print(B)"
   ]
  },
  {
   "cell_type": "code",
   "execution_count": 30,
   "metadata": {},
   "outputs": [
    {
     "name": "stdout",
     "output_type": "stream",
     "text": [
      "[[-0.2298477   0.88346102  0.40824829]\n",
      " [-0.52474482  0.24078249 -0.81649658]\n",
      " [-0.81964194 -0.40189603  0.40824829]]\n",
      "[9.52551809 0.51430058]\n",
      "[[-0.61962948 -0.78489445]\n",
      " [-0.78489445  0.61962948]]\n"
     ]
    }
   ],
   "source": [
    "import numpy as np\n",
    "#define a martix\n",
    "A = np.array([[1, 2],\n",
    "              [3, 4],\n",
    "              [5, 6]])\n",
    "\n",
    "# performm SVD\n",
    "U, S, VT = np.linalg.svd(A)\n",
    "\n",
    "print(U)\n",
    "print(S)\n",
    "print(VT)"
   ]
  }
 ],
 "metadata": {
  "kernelspec": {
   "display_name": "Python 3",
   "language": "python",
   "name": "python3"
  },
  "language_info": {
   "codemirror_mode": {
    "name": "ipython",
    "version": 3
   },
   "file_extension": ".py",
   "mimetype": "text/x-python",
   "name": "python",
   "nbconvert_exporter": "python",
   "pygments_lexer": "ipython3",
   "version": "3.11.6"
  },
  "orig_nbformat": 4
 },
 "nbformat": 4,
 "nbformat_minor": 2
}
